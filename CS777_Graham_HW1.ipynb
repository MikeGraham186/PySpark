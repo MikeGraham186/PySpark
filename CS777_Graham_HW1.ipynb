{
 "cells": [
  {
   "cell_type": "code",
   "execution_count": 1,
   "id": "ba19b7b7",
   "metadata": {},
   "outputs": [
    {
     "ename": "Exception",
     "evalue": "Unable to find py4j in C:\\Users\\MikeG\\OneDrive\\Desktop\\winutils-master\\hadoop-3.0.0\\python, your SPARK_HOME may not be configured correctly",
     "output_type": "error",
     "traceback": [
      "\u001b[1;31m---------------------------------------------------------------------------\u001b[0m",
      "\u001b[1;31mIndexError\u001b[0m                                Traceback (most recent call last)",
      "\u001b[1;32m~\\anaconda3\\lib\\site-packages\\findspark.py\u001b[0m in \u001b[0;36minit\u001b[1;34m(spark_home, python_path, edit_rc, edit_profile)\u001b[0m\n\u001b[0;32m    158\u001b[0m         \u001b[1;32mtry\u001b[0m\u001b[1;33m:\u001b[0m\u001b[1;33m\u001b[0m\u001b[1;33m\u001b[0m\u001b[0m\n\u001b[1;32m--> 159\u001b[1;33m             \u001b[0mpy4j\u001b[0m \u001b[1;33m=\u001b[0m \u001b[0mglob\u001b[0m\u001b[1;33m(\u001b[0m\u001b[0mos\u001b[0m\u001b[1;33m.\u001b[0m\u001b[0mpath\u001b[0m\u001b[1;33m.\u001b[0m\u001b[0mjoin\u001b[0m\u001b[1;33m(\u001b[0m\u001b[0mspark_python\u001b[0m\u001b[1;33m,\u001b[0m \u001b[1;34m\"lib\"\u001b[0m\u001b[1;33m,\u001b[0m \u001b[1;34m\"py4j-*.zip\"\u001b[0m\u001b[1;33m)\u001b[0m\u001b[1;33m)\u001b[0m\u001b[1;33m[\u001b[0m\u001b[1;36m0\u001b[0m\u001b[1;33m]\u001b[0m\u001b[1;33m\u001b[0m\u001b[1;33m\u001b[0m\u001b[0m\n\u001b[0m\u001b[0;32m    160\u001b[0m         \u001b[1;32mexcept\u001b[0m \u001b[0mIndexError\u001b[0m\u001b[1;33m:\u001b[0m\u001b[1;33m\u001b[0m\u001b[1;33m\u001b[0m\u001b[0m\n",
      "\u001b[1;31mIndexError\u001b[0m: list index out of range",
      "\nDuring handling of the above exception, another exception occurred:\n",
      "\u001b[1;31mException\u001b[0m                                 Traceback (most recent call last)",
      "\u001b[1;32m~\\AppData\\Local\\Temp/ipykernel_5788/3182441431.py\u001b[0m in \u001b[0;36m<module>\u001b[1;34m\u001b[0m\n\u001b[0;32m      1\u001b[0m \u001b[1;32mimport\u001b[0m \u001b[0mfindspark\u001b[0m\u001b[1;33m\u001b[0m\u001b[1;33m\u001b[0m\u001b[0m\n\u001b[1;32m----> 2\u001b[1;33m \u001b[0mfindspark\u001b[0m\u001b[1;33m.\u001b[0m\u001b[0minit\u001b[0m\u001b[1;33m(\u001b[0m\u001b[1;33m)\u001b[0m\u001b[1;33m\u001b[0m\u001b[1;33m\u001b[0m\u001b[0m\n\u001b[0m\u001b[0;32m      3\u001b[0m \u001b[0mfindspark\u001b[0m\u001b[1;33m.\u001b[0m\u001b[0mfind\u001b[0m\u001b[1;33m(\u001b[0m\u001b[1;33m)\u001b[0m\u001b[1;33m\u001b[0m\u001b[1;33m\u001b[0m\u001b[0m\n\u001b[0;32m      4\u001b[0m \u001b[1;32mfrom\u001b[0m \u001b[0moperator\u001b[0m \u001b[1;32mimport\u001b[0m \u001b[0madd\u001b[0m\u001b[1;33m\u001b[0m\u001b[1;33m\u001b[0m\u001b[0m\n\u001b[0;32m      5\u001b[0m \u001b[1;32mfrom\u001b[0m \u001b[0mpyspark\u001b[0m \u001b[1;32mimport\u001b[0m \u001b[0mSparkContext\u001b[0m\u001b[1;33m\u001b[0m\u001b[1;33m\u001b[0m\u001b[0m\n",
      "\u001b[1;32m~\\anaconda3\\lib\\site-packages\\findspark.py\u001b[0m in \u001b[0;36minit\u001b[1;34m(spark_home, python_path, edit_rc, edit_profile)\u001b[0m\n\u001b[0;32m    159\u001b[0m             \u001b[0mpy4j\u001b[0m \u001b[1;33m=\u001b[0m \u001b[0mglob\u001b[0m\u001b[1;33m(\u001b[0m\u001b[0mos\u001b[0m\u001b[1;33m.\u001b[0m\u001b[0mpath\u001b[0m\u001b[1;33m.\u001b[0m\u001b[0mjoin\u001b[0m\u001b[1;33m(\u001b[0m\u001b[0mspark_python\u001b[0m\u001b[1;33m,\u001b[0m \u001b[1;34m\"lib\"\u001b[0m\u001b[1;33m,\u001b[0m \u001b[1;34m\"py4j-*.zip\"\u001b[0m\u001b[1;33m)\u001b[0m\u001b[1;33m)\u001b[0m\u001b[1;33m[\u001b[0m\u001b[1;36m0\u001b[0m\u001b[1;33m]\u001b[0m\u001b[1;33m\u001b[0m\u001b[1;33m\u001b[0m\u001b[0m\n\u001b[0;32m    160\u001b[0m         \u001b[1;32mexcept\u001b[0m \u001b[0mIndexError\u001b[0m\u001b[1;33m:\u001b[0m\u001b[1;33m\u001b[0m\u001b[1;33m\u001b[0m\u001b[0m\n\u001b[1;32m--> 161\u001b[1;33m             raise Exception(\n\u001b[0m\u001b[0;32m    162\u001b[0m                 \"Unable to find py4j in {}, your SPARK_HOME may not be configured correctly\".format(\n\u001b[0;32m    163\u001b[0m                     \u001b[0mspark_python\u001b[0m\u001b[1;33m\u001b[0m\u001b[1;33m\u001b[0m\u001b[0m\n",
      "\u001b[1;31mException\u001b[0m: Unable to find py4j in C:\\Users\\MikeG\\OneDrive\\Desktop\\winutils-master\\hadoop-3.0.0\\python, your SPARK_HOME may not be configured correctly"
     ]
    }
   ],
   "source": [
    "import findspark\n",
    "findspark.init()\n",
    "findspark.find()\n",
    "from operator import add\n",
    "from pyspark import SparkContext\n",
    "import wget"
   ]
  },
  {
   "cell_type": "code",
   "execution_count": 1,
   "id": "ca0fd6a6",
   "metadata": {},
   "outputs": [],
   "source": [
    "from pyspark import SparkContext\n",
    "from pyspark.sql import SparkSession\n",
    "from pyspark.sql.window import Window\n",
    "from pyspark.sql.functions import col, expr, when,\\\n",
    "desc, first, last, row_number, rank, substring\n",
    "from pyspark.sql.functions import max as pmax, min as pmin\n"
   ]
  },
  {
   "cell_type": "code",
   "execution_count": 2,
   "id": "81a1d8bb",
   "metadata": {},
   "outputs": [
    {
     "ename": "FileNotFoundError",
     "evalue": "[WinError 2] The system cannot find the file specified",
     "output_type": "error",
     "traceback": [
      "\u001b[1;31m---------------------------------------------------------------------------\u001b[0m",
      "\u001b[1;31mFileNotFoundError\u001b[0m                         Traceback (most recent call last)",
      "\u001b[1;32m~\\AppData\\Local\\Temp/ipykernel_42440/664383918.py\u001b[0m in \u001b[0;36m<module>\u001b[1;34m\u001b[0m\n\u001b[1;32m----> 1\u001b[1;33m \u001b[0mspark\u001b[0m \u001b[1;33m=\u001b[0m \u001b[0mSparkSession\u001b[0m\u001b[1;33m.\u001b[0m\u001b[0mbuilder\u001b[0m\u001b[1;33m.\u001b[0m\u001b[0mgetOrCreate\u001b[0m\u001b[1;33m(\u001b[0m\u001b[1;33m)\u001b[0m\u001b[1;33m\u001b[0m\u001b[1;33m\u001b[0m\u001b[0m\n\u001b[0m",
      "\u001b[1;32m~\\anaconda3\\lib\\site-packages\\pyspark\\sql\\session.py\u001b[0m in \u001b[0;36mgetOrCreate\u001b[1;34m(self)\u001b[0m\n\u001b[0;32m    226\u001b[0m                             \u001b[0msparkConf\u001b[0m\u001b[1;33m.\u001b[0m\u001b[0mset\u001b[0m\u001b[1;33m(\u001b[0m\u001b[0mkey\u001b[0m\u001b[1;33m,\u001b[0m \u001b[0mvalue\u001b[0m\u001b[1;33m)\u001b[0m\u001b[1;33m\u001b[0m\u001b[1;33m\u001b[0m\u001b[0m\n\u001b[0;32m    227\u001b[0m                         \u001b[1;31m# This SparkContext may be an existing one.\u001b[0m\u001b[1;33m\u001b[0m\u001b[1;33m\u001b[0m\u001b[0m\n\u001b[1;32m--> 228\u001b[1;33m                         \u001b[0msc\u001b[0m \u001b[1;33m=\u001b[0m \u001b[0mSparkContext\u001b[0m\u001b[1;33m.\u001b[0m\u001b[0mgetOrCreate\u001b[0m\u001b[1;33m(\u001b[0m\u001b[0msparkConf\u001b[0m\u001b[1;33m)\u001b[0m\u001b[1;33m\u001b[0m\u001b[1;33m\u001b[0m\u001b[0m\n\u001b[0m\u001b[0;32m    229\u001b[0m                     \u001b[1;31m# Do not update `SparkConf` for existing `SparkContext`, as it's shared\u001b[0m\u001b[1;33m\u001b[0m\u001b[1;33m\u001b[0m\u001b[0m\n\u001b[0;32m    230\u001b[0m                     \u001b[1;31m# by all sessions.\u001b[0m\u001b[1;33m\u001b[0m\u001b[1;33m\u001b[0m\u001b[0m\n",
      "\u001b[1;32m~\\anaconda3\\lib\\site-packages\\pyspark\\context.py\u001b[0m in \u001b[0;36mgetOrCreate\u001b[1;34m(cls, conf)\u001b[0m\n\u001b[0;32m    390\u001b[0m         \u001b[1;32mwith\u001b[0m \u001b[0mSparkContext\u001b[0m\u001b[1;33m.\u001b[0m\u001b[0m_lock\u001b[0m\u001b[1;33m:\u001b[0m\u001b[1;33m\u001b[0m\u001b[1;33m\u001b[0m\u001b[0m\n\u001b[0;32m    391\u001b[0m             \u001b[1;32mif\u001b[0m \u001b[0mSparkContext\u001b[0m\u001b[1;33m.\u001b[0m\u001b[0m_active_spark_context\u001b[0m \u001b[1;32mis\u001b[0m \u001b[1;32mNone\u001b[0m\u001b[1;33m:\u001b[0m\u001b[1;33m\u001b[0m\u001b[1;33m\u001b[0m\u001b[0m\n\u001b[1;32m--> 392\u001b[1;33m                 \u001b[0mSparkContext\u001b[0m\u001b[1;33m(\u001b[0m\u001b[0mconf\u001b[0m\u001b[1;33m=\u001b[0m\u001b[0mconf\u001b[0m \u001b[1;32mor\u001b[0m \u001b[0mSparkConf\u001b[0m\u001b[1;33m(\u001b[0m\u001b[1;33m)\u001b[0m\u001b[1;33m)\u001b[0m\u001b[1;33m\u001b[0m\u001b[1;33m\u001b[0m\u001b[0m\n\u001b[0m\u001b[0;32m    393\u001b[0m             \u001b[1;32mreturn\u001b[0m \u001b[0mSparkContext\u001b[0m\u001b[1;33m.\u001b[0m\u001b[0m_active_spark_context\u001b[0m\u001b[1;33m\u001b[0m\u001b[1;33m\u001b[0m\u001b[0m\n\u001b[0;32m    394\u001b[0m \u001b[1;33m\u001b[0m\u001b[0m\n",
      "\u001b[1;32m~\\anaconda3\\lib\\site-packages\\pyspark\\context.py\u001b[0m in \u001b[0;36m__init__\u001b[1;34m(self, master, appName, sparkHome, pyFiles, environment, batchSize, serializer, conf, gateway, jsc, profiler_cls)\u001b[0m\n\u001b[0;32m    142\u001b[0m                 \" is not allowed as it is a security risk.\")\n\u001b[0;32m    143\u001b[0m \u001b[1;33m\u001b[0m\u001b[0m\n\u001b[1;32m--> 144\u001b[1;33m         \u001b[0mSparkContext\u001b[0m\u001b[1;33m.\u001b[0m\u001b[0m_ensure_initialized\u001b[0m\u001b[1;33m(\u001b[0m\u001b[0mself\u001b[0m\u001b[1;33m,\u001b[0m \u001b[0mgateway\u001b[0m\u001b[1;33m=\u001b[0m\u001b[0mgateway\u001b[0m\u001b[1;33m,\u001b[0m \u001b[0mconf\u001b[0m\u001b[1;33m=\u001b[0m\u001b[0mconf\u001b[0m\u001b[1;33m)\u001b[0m\u001b[1;33m\u001b[0m\u001b[1;33m\u001b[0m\u001b[0m\n\u001b[0m\u001b[0;32m    145\u001b[0m         \u001b[1;32mtry\u001b[0m\u001b[1;33m:\u001b[0m\u001b[1;33m\u001b[0m\u001b[1;33m\u001b[0m\u001b[0m\n\u001b[0;32m    146\u001b[0m             self._do_init(master, appName, sparkHome, pyFiles, environment, batchSize, serializer,\n",
      "\u001b[1;32m~\\anaconda3\\lib\\site-packages\\pyspark\\context.py\u001b[0m in \u001b[0;36m_ensure_initialized\u001b[1;34m(cls, instance, gateway, conf)\u001b[0m\n\u001b[0;32m    337\u001b[0m         \u001b[1;32mwith\u001b[0m \u001b[0mSparkContext\u001b[0m\u001b[1;33m.\u001b[0m\u001b[0m_lock\u001b[0m\u001b[1;33m:\u001b[0m\u001b[1;33m\u001b[0m\u001b[1;33m\u001b[0m\u001b[0m\n\u001b[0;32m    338\u001b[0m             \u001b[1;32mif\u001b[0m \u001b[1;32mnot\u001b[0m \u001b[0mSparkContext\u001b[0m\u001b[1;33m.\u001b[0m\u001b[0m_gateway\u001b[0m\u001b[1;33m:\u001b[0m\u001b[1;33m\u001b[0m\u001b[1;33m\u001b[0m\u001b[0m\n\u001b[1;32m--> 339\u001b[1;33m                 \u001b[0mSparkContext\u001b[0m\u001b[1;33m.\u001b[0m\u001b[0m_gateway\u001b[0m \u001b[1;33m=\u001b[0m \u001b[0mgateway\u001b[0m \u001b[1;32mor\u001b[0m \u001b[0mlaunch_gateway\u001b[0m\u001b[1;33m(\u001b[0m\u001b[0mconf\u001b[0m\u001b[1;33m)\u001b[0m\u001b[1;33m\u001b[0m\u001b[1;33m\u001b[0m\u001b[0m\n\u001b[0m\u001b[0;32m    340\u001b[0m                 \u001b[0mSparkContext\u001b[0m\u001b[1;33m.\u001b[0m\u001b[0m_jvm\u001b[0m \u001b[1;33m=\u001b[0m \u001b[0mSparkContext\u001b[0m\u001b[1;33m.\u001b[0m\u001b[0m_gateway\u001b[0m\u001b[1;33m.\u001b[0m\u001b[0mjvm\u001b[0m\u001b[1;33m\u001b[0m\u001b[1;33m\u001b[0m\u001b[0m\n\u001b[0;32m    341\u001b[0m \u001b[1;33m\u001b[0m\u001b[0m\n",
      "\u001b[1;32m~\\anaconda3\\lib\\site-packages\\pyspark\\java_gateway.py\u001b[0m in \u001b[0;36mlaunch_gateway\u001b[1;34m(conf, popen_kwargs)\u001b[0m\n\u001b[0;32m     99\u001b[0m             \u001b[1;32melse\u001b[0m\u001b[1;33m:\u001b[0m\u001b[1;33m\u001b[0m\u001b[1;33m\u001b[0m\u001b[0m\n\u001b[0;32m    100\u001b[0m                 \u001b[1;31m# preexec_fn not supported on Windows\u001b[0m\u001b[1;33m\u001b[0m\u001b[1;33m\u001b[0m\u001b[0m\n\u001b[1;32m--> 101\u001b[1;33m                 \u001b[0mproc\u001b[0m \u001b[1;33m=\u001b[0m \u001b[0mPopen\u001b[0m\u001b[1;33m(\u001b[0m\u001b[0mcommand\u001b[0m\u001b[1;33m,\u001b[0m \u001b[1;33m**\u001b[0m\u001b[0mpopen_kwargs\u001b[0m\u001b[1;33m)\u001b[0m\u001b[1;33m\u001b[0m\u001b[1;33m\u001b[0m\u001b[0m\n\u001b[0m\u001b[0;32m    102\u001b[0m \u001b[1;33m\u001b[0m\u001b[0m\n\u001b[0;32m    103\u001b[0m             \u001b[1;31m# Wait for the file to appear, or for the process to exit, whichever happens first.\u001b[0m\u001b[1;33m\u001b[0m\u001b[1;33m\u001b[0m\u001b[0m\n",
      "\u001b[1;32m~\\anaconda3\\lib\\subprocess.py\u001b[0m in \u001b[0;36m__init__\u001b[1;34m(self, args, bufsize, executable, stdin, stdout, stderr, preexec_fn, close_fds, shell, cwd, env, universal_newlines, startupinfo, creationflags, restore_signals, start_new_session, pass_fds, user, group, extra_groups, encoding, errors, text, umask)\u001b[0m\n\u001b[0;32m    949\u001b[0m                             encoding=encoding, errors=errors)\n\u001b[0;32m    950\u001b[0m \u001b[1;33m\u001b[0m\u001b[0m\n\u001b[1;32m--> 951\u001b[1;33m             self._execute_child(args, executable, preexec_fn, close_fds,\n\u001b[0m\u001b[0;32m    952\u001b[0m                                 \u001b[0mpass_fds\u001b[0m\u001b[1;33m,\u001b[0m \u001b[0mcwd\u001b[0m\u001b[1;33m,\u001b[0m \u001b[0menv\u001b[0m\u001b[1;33m,\u001b[0m\u001b[1;33m\u001b[0m\u001b[1;33m\u001b[0m\u001b[0m\n\u001b[0;32m    953\u001b[0m                                 \u001b[0mstartupinfo\u001b[0m\u001b[1;33m,\u001b[0m \u001b[0mcreationflags\u001b[0m\u001b[1;33m,\u001b[0m \u001b[0mshell\u001b[0m\u001b[1;33m,\u001b[0m\u001b[1;33m\u001b[0m\u001b[1;33m\u001b[0m\u001b[0m\n",
      "\u001b[1;32m~\\anaconda3\\lib\\subprocess.py\u001b[0m in \u001b[0;36m_execute_child\u001b[1;34m(self, args, executable, preexec_fn, close_fds, pass_fds, cwd, env, startupinfo, creationflags, shell, p2cread, p2cwrite, c2pread, c2pwrite, errread, errwrite, unused_restore_signals, unused_gid, unused_gids, unused_uid, unused_umask, unused_start_new_session)\u001b[0m\n\u001b[0;32m   1418\u001b[0m             \u001b[1;31m# Start the process\u001b[0m\u001b[1;33m\u001b[0m\u001b[1;33m\u001b[0m\u001b[0m\n\u001b[0;32m   1419\u001b[0m             \u001b[1;32mtry\u001b[0m\u001b[1;33m:\u001b[0m\u001b[1;33m\u001b[0m\u001b[1;33m\u001b[0m\u001b[0m\n\u001b[1;32m-> 1420\u001b[1;33m                 hp, ht, pid, tid = _winapi.CreateProcess(executable, args,\n\u001b[0m\u001b[0;32m   1421\u001b[0m                                          \u001b[1;31m# no special security\u001b[0m\u001b[1;33m\u001b[0m\u001b[1;33m\u001b[0m\u001b[0m\n\u001b[0;32m   1422\u001b[0m                                          \u001b[1;32mNone\u001b[0m\u001b[1;33m,\u001b[0m \u001b[1;32mNone\u001b[0m\u001b[1;33m,\u001b[0m\u001b[1;33m\u001b[0m\u001b[1;33m\u001b[0m\u001b[0m\n",
      "\u001b[1;31mFileNotFoundError\u001b[0m: [WinError 2] The system cannot find the file specified"
     ]
    }
   ],
   "source": [
    "spark = SparkSession.builder.getOrCreate()"
   ]
  },
  {
   "cell_type": "code",
   "execution_count": null,
   "id": "c022e7fe",
   "metadata": {},
   "outputs": [],
   "source": []
  },
  {
   "cell_type": "code",
   "execution_count": null,
   "id": "49832f71",
   "metadata": {},
   "outputs": [],
   "source": []
  },
  {
   "cell_type": "code",
   "execution_count": null,
   "id": "f70f8b26",
   "metadata": {},
   "outputs": [],
   "source": [
    "sc = SparkContext(\"local[4]\", \"App1\")"
   ]
  },
  {
   "cell_type": "code",
   "execution_count": null,
   "id": "f25efb13",
   "metadata": {},
   "outputs": [],
   "source": [
    "fileName = 'https://people.bu.edu/kalathur/datasets/stocks_2013_2021.txt'\n",
    "wget.download(fileName)\n"
   ]
  },
  {
   "cell_type": "code",
   "execution_count": null,
   "id": "cd87f162",
   "metadata": {},
   "outputs": [],
   "source": [
    "stocksFile = sc.textFile(\"stocks_2013_2021.txt\")\n",
    "stocksFile\n"
   ]
  },
  {
   "cell_type": "code",
   "execution_count": null,
   "id": "d4908669",
   "metadata": {},
   "outputs": [],
   "source": [
    "stocksFile.take(2)"
   ]
  },
  {
   "cell_type": "code",
   "execution_count": null,
   "id": "48b57852",
   "metadata": {},
   "outputs": [],
   "source": [
    "#Problem 1A\n",
    "mapped = stocksFile.map(lambda x : x.split(','))\n",
    "mapped.take(2)"
   ]
  },
  {
   "cell_type": "code",
   "execution_count": null,
   "id": "d8d8c367",
   "metadata": {},
   "outputs": [],
   "source": [
    "#Problem 1B\n",
    "mappedVariableTypes = mapped.map(lambda x: [x[0], x[1], float(x[2]), float(x[3]), float(x[4]), float(x[5]), int(x[6])])\n",
    "mappedVariableTypes.take(2)"
   ]
  },
  {
   "cell_type": "code",
   "execution_count": null,
   "id": "422c6931",
   "metadata": {},
   "outputs": [],
   "source": [
    "#Problem 1C\n",
    "mappedVariableTypes.count()"
   ]
  },
  {
   "cell_type": "code",
   "execution_count": null,
   "id": "ed314294",
   "metadata": {},
   "outputs": [],
   "source": [
    "#Problem 1D\n",
    "tickerCounts = mappedVariableTypes.map(lambda x: (x[0], 1)).reduceByKey(add).collect()\n",
    "sorted(tickerCounts, key = lambda x :x[0])"
   ]
  },
  {
   "cell_type": "code",
   "execution_count": null,
   "id": "821df697",
   "metadata": {},
   "outputs": [],
   "source": [
    "#Problem 2A\n",
    "volumeMapped = mappedVariableTypes.map(lambda x: [x[0], x[6]])\n",
    "volumeMapped.take(2)"
   ]
  },
  {
   "cell_type": "code",
   "execution_count": null,
   "id": "44942d83",
   "metadata": {},
   "outputs": [],
   "source": [
    "#Problem 2B\n",
    "volumeTotal = volumeMapped.reduceByKey(add).collect()\n",
    "volumeTotal"
   ]
  },
  {
   "cell_type": "code",
   "execution_count": null,
   "id": "c101a6f3",
   "metadata": {},
   "outputs": [],
   "source": [
    "#Problem 2C\n",
    "sorted(volumeTotal, key = lambda x : x[1], reverse = True)"
   ]
  },
  {
   "cell_type": "code",
   "execution_count": null,
   "id": "3675ed16",
   "metadata": {},
   "outputs": [],
   "source": [
    "#Problem 2D\n",
    "sorted(sc.parallelize(volumeTotal).sortBy(lambda x: x[1], ascending = False).collect(), key = lambda x:x[0])"
   ]
  },
  {
   "cell_type": "code",
   "execution_count": null,
   "id": "fac0f353",
   "metadata": {},
   "outputs": [],
   "source": [
    "#Problem 3A\n",
    "openClose = mappedVariableTypes.map(lambda x: [x[0], (x[2], x[5])])\n",
    "openClose.take(2)"
   ]
  },
  {
   "cell_type": "code",
   "execution_count": null,
   "id": "09df57e9",
   "metadata": {},
   "outputs": [],
   "source": [
    "#Problem 3B\n",
    "closeHigherThanOpen = openClose.map(lambda x : (x[0], 1 if x[1][1] > x[1][0] else 0))\\\n",
    ".reduceByKey(add).sortBy(lambda x: x[1], ascending = False).collect()\n",
    "closeHigherThanOpen"
   ]
  },
  {
   "cell_type": "code",
   "execution_count": null,
   "id": "82a6994b",
   "metadata": {},
   "outputs": [],
   "source": [
    "#Problem 4A\n",
    "highLow = mappedVariableTypes.map(lambda x: [x[0], (x[3], x[4])])\n",
    "highLow.take(2)"
   ]
  },
  {
   "cell_type": "code",
   "execution_count": null,
   "id": "5736aa4c",
   "metadata": {},
   "outputs": [],
   "source": [
    "#Problem 4B\n",
    "sorted(highLow.reduceByKey(lambda x, y: (max(x[0], y[0]), min(x[1], y[1]))).collect(), key = lambda x:x[0])\n"
   ]
  },
  {
   "cell_type": "code",
   "execution_count": null,
   "id": "d6da6224",
   "metadata": {},
   "outputs": [],
   "source": [
    "#Problem 5A\n",
    "highLowWithDates = mappedVariableTypes.map(lambda x: (x[0], [(x[3], x[1]), (x[4], x[1])]))\n",
    "highLowWithDates.take(2)\n"
   ]
  },
  {
   "cell_type": "code",
   "execution_count": null,
   "id": "4ea43eb5",
   "metadata": {},
   "outputs": [],
   "source": [
    "#Problem 5B\n",
    "groupedHighLow = highLowWithDates.reduceByKey(lambda x, y : (max(x[0],y[0], key = lambda apples:apples[0]),\\\n",
    "                min(x[1], y[1], key = lambda z : z[0])))\n",
    "sorted(groupedHighLow.collect())\n",
    "                                           \n"
   ]
  },
  {
   "cell_type": "code",
   "execution_count": null,
   "id": "f4b8995b",
   "metadata": {},
   "outputs": [],
   "source": [
    "#Problem 6A\n",
    "stockYearVolume = mappedVariableTypes.map(lambda x: [(x[0], x[1].split('-')[0]), x[6]])\n",
    "stockYearVolume.take(2)"
   ]
  },
  {
   "cell_type": "code",
   "execution_count": null,
   "id": "1ee778c8",
   "metadata": {},
   "outputs": [],
   "source": [
    "stocksByYear = stockYearVolume.reduceByKey(add)\n",
    "sorted(stocksByYear.collect())"
   ]
  },
  {
   "cell_type": "code",
   "execution_count": null,
   "id": "54fea476",
   "metadata": {},
   "outputs": [],
   "source": [
    "#Problem 7A\n",
    "mapHighLow = mappedVariableTypes.map(lambda x: [(x[0], x[1].split('-')[0]), [x[3], x[4]]])\n",
    "mapHighLow.take(2)"
   ]
  },
  {
   "cell_type": "code",
   "execution_count": null,
   "id": "a30b6c78",
   "metadata": {},
   "outputs": [],
   "source": [
    "#Problem 7B\n",
    "mapRDDHighLowByYear = mapHighLow.reduceByKey(lambda x, y: (max(x[0], y[0]), min(x[1], y[1])))\n",
    "sorted(mapRDDHighLowByYear.collect(), key = lambda x: x[0])\n"
   ]
  },
  {
   "cell_type": "code",
   "execution_count": null,
   "id": "e6b88828",
   "metadata": {},
   "outputs": [],
   "source": [
    "#Problem 8A\n",
    "#Open. High, Low, and Close\n",
    "mappedVariableTypes.take(1)\n",
    "googleDates = mappedVariableTypes.filter(lambda x : x[0] == 'GOOG').map(lambda x: (x[1], [x[0], x[2], x[5],\\\n",
    "                                                        round(100*(x[5] - x[2])/x[2], 2)]))\n",
    "                                                                                          \n",
    "                                                            \n",
    "googleDates.take(4)"
   ]
  },
  {
   "cell_type": "code",
   "execution_count": null,
   "id": "4936364e",
   "metadata": {},
   "outputs": [],
   "source": [
    "#Problem 8B\n",
    "nflxDates = mappedVariableTypes.filter(lambda x : x[0] == 'NFLX').map(lambda x: (x[1], [x[0], x[2], x[5],\\\n",
    "                                                        round(100*(x[5] - x[2])/x[2], 2)]))\n",
    "nflxDates.take(4)"
   ]
  },
  {
   "cell_type": "code",
   "execution_count": null,
   "id": "9dbd8785",
   "metadata": {},
   "outputs": [],
   "source": [
    "#problem 8C\n",
    "nflxGoogleJoin =  googleDates.join(nflxDates)\n",
    "nflxGoogleJoin.takeOrdered(4)"
   ]
  },
  {
   "cell_type": "code",
   "execution_count": null,
   "id": "e29c7696",
   "metadata": {},
   "outputs": [],
   "source": [
    "#Problem 8D\n",
    "maxGainPerDay = nflxGoogleJoin.map(lambda x: (x[0], max(x[1][0], x[1][1], key = lambda octopus : octopus[3])))\n",
    "maxGainPerDay.takeOrdered(4)"
   ]
  },
  {
   "cell_type": "code",
   "execution_count": null,
   "id": "01dc6035",
   "metadata": {
    "scrolled": true
   },
   "outputs": [],
   "source": [
    "#Problem 8E\n",
    "yearStockGoogle = nflxGoogleJoin.map(lambda x : ((x[0].split('-')[0], x[1][0][0]), x[1][0][3]))\n",
    "yearStockNetflix = nflxGoogleJoin.map(lambda x : ((x[0].split('-')[0], x[1][1][0]), x[1][1][3]))\n",
    "yearStockGains = yearStockGoogle.union(yearStockNetflix)\n",
    "yearStockGains.takeSample(False, 10, seed = 123)"
   ]
  },
  {
   "cell_type": "code",
   "execution_count": null,
   "id": "f79a93ba",
   "metadata": {},
   "outputs": [],
   "source": [
    "#Problem 8F \n",
    "# I can't find it\n",
    "collected = yearStockGains.reduceByKey(lambda x, y: (x + y + x*y/100) if x > 0 and y > 0 \\\n",
    "                                      else  (x + y + (x*y/100)) if x > 0 and y < 0 \\\n",
    "                                       else (x + y + x*y/100) if x < 0 and y > 0 \\\n",
    "                                        else (x + y + x*y/100) if x < 0 and y < 0 \\\n",
    "                                         else x)\n",
    "sorted(collected.collect(), key = lambda strawberries : strawberries[0][0])\n",
    "\n",
    "                                        "
   ]
  }
 ],
 "metadata": {
  "kernelspec": {
   "display_name": "Python 3 (ipykernel)",
   "language": "python",
   "name": "python3"
  },
  "language_info": {
   "codemirror_mode": {
    "name": "ipython",
    "version": 3
   },
   "file_extension": ".py",
   "mimetype": "text/x-python",
   "name": "python",
   "nbconvert_exporter": "python",
   "pygments_lexer": "ipython3",
   "version": "3.9.7"
  }
 },
 "nbformat": 4,
 "nbformat_minor": 5
}
